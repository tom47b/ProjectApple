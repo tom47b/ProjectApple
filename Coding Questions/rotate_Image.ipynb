{
 "cells": [
  {
   "attachments": {},
   "cell_type": "markdown",
   "metadata": {},
   "source": [
    "# Rotate an image made up of array by 90%"
   ]
  },
  {
   "cell_type": "code",
   "execution_count": 9,
   "metadata": {},
   "outputs": [
    {
     "name": "stdout",
     "output_type": "stream",
     "text": [
      "[[1, 2, 3], [4, 5, 6], [7, 8, 9]]\n",
      "[[7, 4, 1], [8, 5, 2], [9, 6, 3]]\n"
     ]
    }
   ],
   "source": [
    "image = [[1, 2, 3],\n",
    "         [4, 5, 6],\n",
    "         [7, 8, 9]]\n",
    "\n",
    "print(image)\n",
    "\n",
    "for idx1 in range(len(image)):\n",
    "    for idx2 in range(len(image[0])):\n",
    "        if idx1 < idx2:\n",
    "            image[idx1][idx2], image[idx2][idx1] = image[idx2][idx1], image[idx1][idx2]\n",
    "\n",
    "\n",
    "for idx1 in range(len(image)):\n",
    "    for idx2 in range(len(image[0])):\n",
    "        idx3 = len(image[0]) - idx2 - 1\n",
    "        if idx2 < idx3:\n",
    "            image[idx1][idx2], image[idx1][idx3] = image[idx1][idx3], image[idx1][idx2]\n",
    "\n",
    "print(image)\n",
    "\n"
   ]
  },
  {
   "attachments": {},
   "cell_type": "markdown",
   "metadata": {},
   "source": [
    "### Key Concepts to remember\n",
    "1. You need two loop to rotate the image\n",
    "1. First loop swaps elements diagonally. The condition idx1 < idx2 ensures that the swap happens correctly. \n",
    "1. If it was idx1 != idx2 then swap will happen twice.\n",
    "1. The second loop is just like reversing a string\n"
   ]
  },
  {
   "attachments": {},
   "cell_type": "markdown",
   "metadata": {},
   "source": [
    "### Mistakes you made\n",
    "1. You didn't swap the variables correctly\n",
    "1. You took time to figure out the loop condition\n",
    "1. You didn't know the python index syntax"
   ]
  },
  {
   "cell_type": "code",
   "execution_count": null,
   "metadata": {},
   "outputs": [],
   "source": []
  }
 ],
 "metadata": {
  "kernelspec": {
   "display_name": "Python 3",
   "language": "python",
   "name": "python3"
  },
  "language_info": {
   "codemirror_mode": {
    "name": "ipython",
    "version": 3
   },
   "file_extension": ".py",
   "mimetype": "text/x-python",
   "name": "python",
   "nbconvert_exporter": "python",
   "pygments_lexer": "ipython3",
   "version": "3.9.2"
  },
  "orig_nbformat": 4
 },
 "nbformat": 4,
 "nbformat_minor": 2
}
