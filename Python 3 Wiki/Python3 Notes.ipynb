{
 "cells": [
  {
   "cell_type": "markdown",
   "id": "05d3983c",
   "metadata": {
    "collapsed": true
   },
   "source": [
    "# Python 3 guidelines\n",
    "\n",
    "- Beautiful > Ugly\n",
    "- Explicit > implicit\n",
    "- Simple > Complex\n",
    "- Flat > Nested\n",
    "- Spare > Dense\n",
    "- Practicality > Purity\n",
    "- Errors > Not silent\n",
    "- Clarify > Ambiguity"
   ]
  },
  {
   "cell_type": "markdown",
   "id": "cd40925d",
   "metadata": {},
   "source": [
    "# Multiline Strings\n",
    "Difference between Physical newline vs logical newline character\n",
    "Physical newlines are only for readbility and will be stripped out during compiling"
   ]
  },
  {
   "cell_type": "markdown",
   "id": "aafe1ba2",
   "metadata": {},
   "source": [
    "### Implicit newline vs explicit new line\n"
   ]
  },
  {
   "cell_type": "code",
   "execution_count": 7,
   "id": "db4b8f7e",
   "metadata": {},
   "outputs": [
    {
     "name": "stdout",
     "output_type": "stream",
     "text": [
      "[1, 2, 3]\n",
      "hello\n"
     ]
    }
   ],
   "source": [
    "some_list = [1,\n",
    "            2,\n",
    "            3]\n",
    "print(some_list)\n",
    "\n",
    "a, b, c = True, True, True\n",
    "\n",
    "if a \\\n",
    "    and b \\\n",
    "    and c:\n",
    "    print('hello')"
   ]
  },
  {
   "cell_type": "markdown",
   "id": "a46bc0ec",
   "metadata": {},
   "source": [
    "### Multi-Line String Literals\n",
    "You needt to use triple delimiters - Can be single or double"
   ]
  },
  {
   "cell_type": "code",
   "execution_count": 8,
   "id": "9a1e7a48",
   "metadata": {},
   "outputs": [
    {
     "name": "stdout",
     "output_type": "stream",
     "text": [
      "My Name is \n",
      "Iron Man\n",
      " \n",
      "My Name is \n",
      "Iron Man\n",
      "\n"
     ]
    }
   ],
   "source": [
    "statement = '''My Name is \n",
    "Iron Man\n",
    "'''\n",
    "\n",
    "statement2 = \"\"\"\n",
    "My Name is \n",
    "Iron Man\n",
    "\"\"\"\n",
    "\n",
    "print(statement, statement2)"
   ]
  },
  {
   "cell_type": "code",
   "execution_count": null,
   "id": "0d8389d7",
   "metadata": {},
   "outputs": [],
   "source": []
  }
 ],
 "metadata": {
  "kernelspec": {
   "display_name": "Python 3 (ipykernel)",
   "language": "python",
   "name": "python3"
  },
  "language_info": {
   "codemirror_mode": {
    "name": "ipython",
    "version": 3
   },
   "file_extension": ".py",
   "mimetype": "text/x-python",
   "name": "python",
   "nbconvert_exporter": "python",
   "pygments_lexer": "ipython3",
   "version": "3.9.2"
  }
 },
 "nbformat": 4,
 "nbformat_minor": 5
}
